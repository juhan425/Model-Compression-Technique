{
  "cells": [
    {
      "cell_type": "markdown",
      "metadata": {
        "id": "gSal5HL0lTHA"
      },
      "source": [
        "## Import libarary"
      ]
    },
    {
      "cell_type": "code",
      "execution_count": 1,
      "metadata": {
        "id": "6v2iM_kglWj-"
      },
      "outputs": [],
      "source": [
        "from __future__ import print_function\n",
        "import os\n",
        "import argparse\n",
        "\n",
        "import torch\n",
        "import torch.nn as nn\n",
        "import torch.nn.functional as F\n",
        "import torch.optim as optim\n",
        "from torchvision import datasets, transforms\n",
        "from torch.autograd import Variable\n",
        "\n",
        "from models import vgg"
      ]
    },
    {
      "cell_type": "markdown",
      "metadata": {
        "id": "yFgiQGL6mq6W"
      },
      "source": [
        "### Set hyperparameter"
      ]
    },
    {
      "cell_type": "code",
      "execution_count": 2,
      "metadata": {
        "id": "a8FQ-IsUmqtP"
      },
      "outputs": [],
      "source": [
        "TRAIN_BATCH_SIZE = 100\n",
        "TEST_BATCH_SIZE = 1000\n",
        "EPOCHS = 10\n",
        "LEARNING_RATE = 0.1\n",
        "MOMENTUM = 0.9\n",
        "WEIGHT_DECAY = 1e-4\n",
        "LOG_INTERVAL = 100\n",
        "CUDA = True\n",
        "SEED = 1\n",
        "\n",
        "RESUME = True\n",
        "START_EPOCH = 0\n",
        "\n",
        "PRUNE_PATH = 'D:\\VScode\\EAI\\Lab5\\model_prune.pth'\n",
        "PRUNE_FINETUNE_PATH = 'D:\\VScode\\EAI\\Lab5\\model_prune_finetune.pth'\n"
      ]
    },
    {
      "cell_type": "markdown",
      "metadata": {
        "id": "Yk2vUEvtE8H3"
      },
      "source": [
        "#### Check whether the GPU can be used"
      ]
    },
    {
      "cell_type": "code",
      "execution_count": 3,
      "metadata": {
        "id": "_Sa1Tmnym3Pn"
      },
      "outputs": [],
      "source": [
        "if(torch.cuda.is_available()):\n",
        "    CUDA = True\n",
        "    kwargs = {'num_workers': 1, 'pin_memory': True}\n",
        "    torch.cuda.manual_seed(SEED)\n",
        "else:\n",
        "    CUDA = False\n",
        "    kwargs = {}\n"
      ]
    },
    {
      "cell_type": "code",
      "execution_count": 4,
      "metadata": {},
      "outputs": [
        {
          "data": {
            "text/plain": [
              "True"
            ]
          },
          "execution_count": 4,
          "metadata": {},
          "output_type": "execute_result"
        }
      ],
      "source": [
        "torch.cuda.is_available()"
      ]
    },
    {
      "cell_type": "markdown",
      "metadata": {
        "id": "fylf4FTlm7QX"
      },
      "source": [
        "### Download dataset\n"
      ]
    },
    {
      "cell_type": "markdown",
      "metadata": {
        "id": "erS9S_76nUsG"
      },
      "source": [
        "Training set: Do augmentation(Pad, RandCrop, Random), while testing set don't"
      ]
    },
    {
      "cell_type": "code",
      "execution_count": 5,
      "metadata": {
        "id": "vBW21uIHm_C-"
      },
      "outputs": [
        {
          "name": "stdout",
          "output_type": "stream",
          "text": [
            "Files already downloaded and verified\n"
          ]
        }
      ],
      "source": [
        "#### DATASET ####\n",
        "train_loader = torch.utils.data.DataLoader(\n",
        "    datasets.CIFAR10('./data', train=True, download=True,\n",
        "                   transform=transforms.Compose([\n",
        "                       transforms.Pad(4),\n",
        "                       transforms.RandomCrop(32),\n",
        "                       transforms.RandomHorizontalFlip(),\n",
        "                       transforms.ToTensor(),\n",
        "                       transforms.Normalize((0.5, 0.5, 0.5), (0.5, 0.5, 0.5))\n",
        "                   ])),\n",
        "    batch_size=TRAIN_BATCH_SIZE, shuffle=True, **kwargs)\n",
        "test_loader = torch.utils.data.DataLoader(\n",
        "    datasets.CIFAR10('./data', train=False, transform=transforms.Compose([\n",
        "                       transforms.ToTensor(),\n",
        "                       transforms.Normalize((0.5, 0.5, 0.5), (0.5, 0.5, 0.5))\n",
        "                   ])),\n",
        "    batch_size=TEST_BATCH_SIZE, shuffle=True, **kwargs)"
      ]
    },
    {
      "cell_type": "markdown",
      "metadata": {
        "id": "Is49FKBbuRj2"
      },
      "source": [
        "### Load the pruned network and weights"
      ]
    },
    {
      "cell_type": "code",
      "execution_count": 6,
      "metadata": {},
      "outputs": [],
      "source": [
        "checkpoint = torch.load(PRUNE_PATH) \n",
        "state_dict = checkpoint['state_dict']\n",
        "\n",
        "new_state_dict = {}\n",
        "for k, v in state_dict.items():\n",
        "    new_state_dict[k] = v.squeeze()"
      ]
    },
    {
      "cell_type": "code",
      "execution_count": 7,
      "metadata": {
        "id": "SUbUcHN4uQ89"
      },
      "outputs": [
        {
          "name": "stdout",
          "output_type": "stream",
          "text": [
            "RESUME PRUNE MODEL\n"
          ]
        }
      ],
      "source": [
        "model = None\n",
        "if(RESUME):\n",
        "  checkpoint = torch.load(PRUNE_PATH)\n",
        "  model = vgg(cfg=checkpoint['cfg'])\n",
        "  model.load_state_dict(new_state_dict)\n",
        "  #model.load_state_dict(checkpoint['state_dict'])\n",
        "\n",
        "  print('RESUME PRUNE MODEL')\n",
        "\n",
        "if CUDA:\n",
        "    model.cuda()"
      ]
    },
    {
      "cell_type": "markdown",
      "metadata": {
        "id": "ZC8ECoKHu7iF"
      },
      "source": [
        "### Set Optimizer\n",
        "At here we used Stocastic Gradient Descent (SGD)"
      ]
    },
    {
      "cell_type": "code",
      "execution_count": 8,
      "metadata": {
        "id": "EQ-soeyWvGyM"
      },
      "outputs": [],
      "source": [
        "optimizer = optim.SGD(model.parameters(), lr=LEARNING_RATE, momentum=MOMENTUM, weight_decay=WEIGHT_DECAY)"
      ]
    },
    {
      "cell_type": "markdown",
      "metadata": {
        "id": "gR2UTh0iwbEF"
      },
      "source": [
        "### Define training and testing functions"
      ]
    },
    {
      "cell_type": "code",
      "execution_count": null,
      "metadata": {
        "id": "hQcKuMDee46V"
      },
      "outputs": [
        {
          "name": "stdout",
          "output_type": "stream",
          "text": [
            "\n",
            "Train Epoch: 0 [0/50000 (0.0%)]\tLoss: 2.641221\n",
            "\n",
            "Train Epoch: 0 [10000/50000 (20.0%)]\tLoss: 1.479461\n",
            "\n",
            "Train Epoch: 0 [20000/50000 (40.0%)]\tLoss: 1.144148\n",
            "\n",
            "Train Epoch: 0 [30000/50000 (60.0%)]\tLoss: 1.007146\n",
            "\n",
            "Train Epoch: 0 [40000/50000 (80.0%)]\tLoss: 0.835108\n",
            "\n",
            "Test set: Average loss: 2.2000, Accuracy: 3524/10000 (35.2%)\n",
            "\n",
            "\n",
            "Train Epoch: 1 [0/50000 (0.0%)]\tLoss: 0.811268\n",
            "\n",
            "Train Epoch: 1 [10000/50000 (20.0%)]\tLoss: 0.662850\n",
            "\n",
            "Train Epoch: 1 [20000/50000 (40.0%)]\tLoss: 0.572529\n",
            "\n",
            "Train Epoch: 1 [30000/50000 (60.0%)]\tLoss: 0.900474\n",
            "\n",
            "Train Epoch: 1 [40000/50000 (80.0%)]\tLoss: 0.843612\n",
            "\n",
            "Test set: Average loss: 1.3116, Accuracy: 6478/10000 (64.8%)\n",
            "\n",
            "\n",
            "Train Epoch: 2 [0/50000 (0.0%)]\tLoss: 0.828872\n",
            "\n",
            "Train Epoch: 2 [10000/50000 (20.0%)]\tLoss: 0.638155\n",
            "\n",
            "Train Epoch: 2 [20000/50000 (40.0%)]\tLoss: 0.584172\n",
            "\n",
            "Train Epoch: 2 [30000/50000 (60.0%)]\tLoss: 0.653869\n",
            "\n",
            "Train Epoch: 2 [40000/50000 (80.0%)]\tLoss: 0.641705\n",
            "\n",
            "Test set: Average loss: 0.9778, Accuracy: 7258/10000 (72.6%)\n",
            "\n",
            "\n",
            "Train Epoch: 3 [0/50000 (0.0%)]\tLoss: 0.830539\n",
            "\n",
            "Train Epoch: 3 [10000/50000 (20.0%)]\tLoss: 0.677082\n",
            "\n",
            "Train Epoch: 3 [20000/50000 (40.0%)]\tLoss: 0.476261\n",
            "\n",
            "Train Epoch: 3 [30000/50000 (60.0%)]\tLoss: 0.830700\n",
            "\n",
            "Train Epoch: 3 [40000/50000 (80.0%)]\tLoss: 0.658161\n",
            "\n",
            "Test set: Average loss: 1.1126, Accuracy: 6576/10000 (65.8%)\n",
            "\n",
            "\n",
            "Train Epoch: 4 [0/50000 (0.0%)]\tLoss: 0.503771\n",
            "\n",
            "Train Epoch: 4 [10000/50000 (20.0%)]\tLoss: 0.645959\n",
            "\n",
            "Train Epoch: 4 [20000/50000 (40.0%)]\tLoss: 0.488579\n",
            "\n",
            "Train Epoch: 4 [30000/50000 (60.0%)]\tLoss: 0.634954\n",
            "\n",
            "Train Epoch: 4 [40000/50000 (80.0%)]\tLoss: 0.709055\n",
            "\n",
            "Test set: Average loss: 0.9197, Accuracy: 7421/10000 (74.2%)\n",
            "\n",
            "\n",
            "Train Epoch: 5 [0/50000 (0.0%)]\tLoss: 0.514663\n",
            "\n",
            "Train Epoch: 5 [10000/50000 (20.0%)]\tLoss: 0.271034\n",
            "\n",
            "Train Epoch: 5 [20000/50000 (40.0%)]\tLoss: 0.438310\n",
            "\n",
            "Train Epoch: 5 [30000/50000 (60.0%)]\tLoss: 0.374234\n",
            "\n",
            "Train Epoch: 5 [40000/50000 (80.0%)]\tLoss: 0.302951\n",
            "\n",
            "Test set: Average loss: 0.4499, Accuracy: 8652/10000 (86.5%)\n",
            "\n",
            "\n",
            "Train Epoch: 6 [0/50000 (0.0%)]\tLoss: 0.333353\n",
            "\n",
            "Train Epoch: 6 [10000/50000 (20.0%)]\tLoss: 0.376408\n",
            "\n",
            "Train Epoch: 6 [20000/50000 (40.0%)]\tLoss: 0.289074\n",
            "\n",
            "Train Epoch: 6 [30000/50000 (60.0%)]\tLoss: 0.315804\n",
            "\n",
            "Train Epoch: 6 [40000/50000 (80.0%)]\tLoss: 0.414835\n",
            "\n",
            "Test set: Average loss: 0.4388, Accuracy: 8690/10000 (86.9%)\n",
            "\n",
            "\n",
            "Train Epoch: 7 [0/50000 (0.0%)]\tLoss: 0.555164\n",
            "\n",
            "Train Epoch: 7 [10000/50000 (20.0%)]\tLoss: 0.426286\n",
            "\n",
            "Train Epoch: 7 [20000/50000 (40.0%)]\tLoss: 0.337502\n",
            "\n",
            "Train Epoch: 7 [30000/50000 (60.0%)]\tLoss: 0.331813\n",
            "\n",
            "Train Epoch: 7 [40000/50000 (80.0%)]\tLoss: 0.745395\n",
            "\n",
            "Test set: Average loss: 0.4347, Accuracy: 8713/10000 (87.1%)\n",
            "\n",
            "\n",
            "Train Epoch: 8 [0/50000 (0.0%)]\tLoss: 0.395882\n",
            "\n",
            "Train Epoch: 8 [10000/50000 (20.0%)]\tLoss: 0.366647\n",
            "\n",
            "Train Epoch: 8 [20000/50000 (40.0%)]\tLoss: 0.299548\n",
            "\n",
            "Train Epoch: 8 [30000/50000 (60.0%)]\tLoss: 0.478479\n",
            "\n",
            "Train Epoch: 8 [40000/50000 (80.0%)]\tLoss: 0.216600\n",
            "\n",
            "Test set: Average loss: 0.4231, Accuracy: 8737/10000 (87.4%)\n",
            "\n",
            "\n",
            "Train Epoch: 9 [0/50000 (0.0%)]\tLoss: 0.153666\n",
            "\n",
            "Train Epoch: 9 [10000/50000 (20.0%)]\tLoss: 0.188300\n",
            "\n",
            "Train Epoch: 9 [20000/50000 (40.0%)]\tLoss: 0.419988\n",
            "\n",
            "Train Epoch: 9 [30000/50000 (60.0%)]\tLoss: 0.296461\n",
            "\n",
            "Train Epoch: 9 [40000/50000 (80.0%)]\tLoss: 0.334507\n",
            "\n",
            "Test set: Average loss: 0.4417, Accuracy: 8714/10000 (87.1%)\n",
            "\n",
            "\n",
            " TRAIN PRUNED MODEL DONE!\n"
          ]
        }
      ],
      "source": [
        "#### Train function ####\n",
        "\n",
        "train_accuracy = []\n",
        "\n",
        "def train(epoch):\n",
        "    model.train()\n",
        "    for batch_idx, (data, target) in enumerate(train_loader):\n",
        "        if CUDA:\n",
        "            data, target = data.cuda(), target.cuda()\n",
        "        data, target = Variable(data), Variable(target)\n",
        "        optimizer.zero_grad()\n",
        "        output = model(data)\n",
        "        loss = F.cross_entropy(output, target)\n",
        "        loss.backward()\n",
        "        optimizer.step()\n",
        "        if batch_idx % LOG_INTERVAL == 0:\n",
        "            print('\\nTrain Epoch: {} [{}/{} ({:.1f}%)]\\tLoss: {:.6f}'.format(\n",
        "                epoch, batch_idx * len(data), len(train_loader.dataset),\n",
        "                100. * batch_idx / len(train_loader), loss.data.item()))\n",
        "#### Test function ####\n",
        "def test():\n",
        "    model.eval()\n",
        "    test_loss = 0\n",
        "    correct = 0\n",
        "\n",
        "    with torch.no_grad():\n",
        "      for data, target in test_loader:\n",
        "          if CUDA:\n",
        "              data, target = data.cuda(), target.cuda()\n",
        "          data, target = Variable(data), Variable(target)\n",
        "          output = model(data)\n",
        "          test_loss += F.cross_entropy(output, target, reduction='sum').data.item()\n",
        "          pred = output.data.max(1, keepdim=True)[1]\n",
        "          correct += pred.eq(target.data.view_as(pred)).cpu().sum()\n",
        "\n",
        "      test_loss /= len(test_loader.dataset)\n",
        "      print('\\nTest set: Average loss: {:.4f}, Accuracy: {}/{} ({:.1f}%)\\n'.format(\n",
        "          test_loss, correct, len(test_loader.dataset),\n",
        "          100. * correct / len(test_loader.dataset)))\n",
        "      accuracy1 = correct / len(test_loader.dataset)\n",
        "      train_accuracy.append(accuracy1)\n",
        "      return correct / float(len(test_loader.dataset))\n",
        "\n",
        "best_prec1 = 0.\n",
        "for epoch in range(START_EPOCH, EPOCHS):\n",
        "    # The learning rate at 0.5EPOCHS and 0.75EPOCHS is adjusted to 1/10 of the original\n",
        "    if epoch in [EPOCHS*0.5, EPOCHS*0.75]:\n",
        "        for param_group in optimizer.param_groups:\n",
        "            param_group['lr'] *= 0.1\n",
        "    train(epoch)\n",
        "    prec1 = test()\n",
        "\n",
        "    # Store model weights for subsequent pruning and training\n",
        "    if(prec1 > best_prec1):\n",
        "        torch.save({\n",
        "            'epoch': epoch + 1,\n",
        "            'state_dict': model.state_dict(),\n",
        "            'best_prec1': best_prec1,\n",
        "            'optimizer': optimizer.state_dict(),\n",
        "        }, PRUNE_FINETUNE_PATH)\n",
        "\n",
        "    best_prec1 = max(prec1, best_prec1)\n",
        "\n",
        "print('\\n TRAIN PRUNED MODEL DONE!')"
      ]
    },
    {
      "cell_type": "markdown",
      "metadata": {},
      "source": [
        "### Draw the Fine-tuning result graph"
      ]
    },
    {
      "cell_type": "code",
      "execution_count": null,
      "metadata": {},
      "outputs": [
        {
          "data": {
            "image/png": "[encoded data removed]",
            "text/plain": [
              "<Figure size 640x480 with 1 Axes>"
            ]
          },
          "metadata": {},
          "output_type": "display_data"
        }
      ],
      "source": [
        "# Draw the Fine-tuning result graph\n",
        "import matplotlib.pyplot as plt\n",
        "x_ticks = list(range(0, len(train_accuracy)))\n",
        "plt.plot(x_ticks, train_accuracy, label='Train Accuracy')\n",
        "plt.xlabel('Epochs')\n",
        "plt.ylabel('Accuracy')\n",
        "plt.title('Train Accuracy')\n",
        "plt.legend()\n",
        "plt.xticks(x_ticks)\n",
        "plt.show()"
      ]
    }
  ],
  "metadata": {
    "accelerator": "GPU",
    "colab": {
      "provenance": []
    },
    "gpuClass": "standard",
    "kernelspec": {
      "display_name": "Python 3",
      "name": "python3"
    },
    "language_info": {
      "codemirror_mode": {
        "name": "ipython",
        "version": 3
      },
      "file_extension": ".py",
      "mimetype": "text/x-python",
      "name": "python",
      "nbconvert_exporter": "python",
      "pygments_lexer": "ipython3",
      "version": "3.11.4"
    }
  },
  "nbformat": 4,
  "nbformat_minor": 0
}
