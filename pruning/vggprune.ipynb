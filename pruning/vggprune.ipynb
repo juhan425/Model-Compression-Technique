{
  "cells": [
    {
      "cell_type": "markdown",
      "metadata": {
        "id": "S9NTZ1VEtbV7"
      },
      "source": [
        "## Import libarary"
      ]
    },
    {
      "cell_type": "code",
      "execution_count": 12,
      "metadata": {
        "id": "vCvF-fM0tfsq"
      },
      "outputs": [],
      "source": [
        "import os\n",
        "\n",
        "import torch\n",
        "import torch.nn as nn\n",
        "from torch.autograd import Variable\n",
        "from torchvision import datasets, transforms\n",
        "import numpy as np\n",
        "\n",
        "from models import vgg"
      ]
    },
    {
      "cell_type": "markdown",
      "metadata": {
        "id": "_X_r4dtMuwbh"
      },
      "source": [
        "### Set hyperparameter"
      ]
    },
    {
      "cell_type": "code",
      "execution_count": null,
      "metadata": {
        "id": "_2NkY0LyuyQh"
      },
      "outputs": [],
      "source": [
        "DATASET = 'cifar10'\n",
        "TEST_BATCH_SIZE = 1000\n",
        "CUDA = True\n",
        "PRUNE_PERCENT = 0.9\n",
        "WEIGHT_PATH = 'model_best.pth'\n",
        "PRUNE_PATH = 'model_prune.pth' \n"
      ]
    },
    {
      "cell_type": "markdown",
      "metadata": {
        "id": "L7z4dkhJwB4Z"
      },
      "source": [
        "### Load model"
      ]
    },
    {
      "cell_type": "code",
      "execution_count": 14,
      "metadata": {
        "id": "lpIqnhfKwEcJ"
      },
      "outputs": [
        {
          "name": "stdout",
          "output_type": "stream",
          "text": [
            "LOADING CHECKPOINT D:\\VScode\\EAI\\Lab5\\model_best.pth @EPOCH=61, BEST_PREC1=0.8730000257492065\n",
            "vgg(\n",
            "  (feature): Sequential(\n",
            "    (0): Conv2d(3, 64, kernel_size=(3, 3), stride=(1, 1), padding=(1, 1), bias=False)\n",
            "    (1): BatchNorm2d(64, eps=1e-05, momentum=0.1, affine=True, track_running_stats=True)\n",
            "    (2): ReLU(inplace=True)\n",
            "    (3): Conv2d(64, 64, kernel_size=(3, 3), stride=(1, 1), padding=(1, 1), bias=False)\n",
            "    (4): BatchNorm2d(64, eps=1e-05, momentum=0.1, affine=True, track_running_stats=True)\n",
            "    (5): ReLU(inplace=True)\n",
            "    (6): MaxPool2d(kernel_size=2, stride=2, padding=0, dilation=1, ceil_mode=False)\n",
            "    (7): Conv2d(64, 128, kernel_size=(3, 3), stride=(1, 1), padding=(1, 1), bias=False)\n",
            "    (8): BatchNorm2d(128, eps=1e-05, momentum=0.1, affine=True, track_running_stats=True)\n",
            "    (9): ReLU(inplace=True)\n",
            "    (10): Conv2d(128, 128, kernel_size=(3, 3), stride=(1, 1), padding=(1, 1), bias=False)\n",
            "    (11): BatchNorm2d(128, eps=1e-05, momentum=0.1, affine=True, track_running_stats=True)\n",
            "    (12): ReLU(inplace=True)\n",
            "    (13): MaxPool2d(kernel_size=2, stride=2, padding=0, dilation=1, ceil_mode=False)\n",
            "    (14): Conv2d(128, 256, kernel_size=(3, 3), stride=(1, 1), padding=(1, 1), bias=False)\n",
            "    (15): BatchNorm2d(256, eps=1e-05, momentum=0.1, affine=True, track_running_stats=True)\n",
            "    (16): ReLU(inplace=True)\n",
            "    (17): Conv2d(256, 256, kernel_size=(3, 3), stride=(1, 1), padding=(1, 1), bias=False)\n",
            "    (18): BatchNorm2d(256, eps=1e-05, momentum=0.1, affine=True, track_running_stats=True)\n",
            "    (19): ReLU(inplace=True)\n",
            "    (20): Conv2d(256, 256, kernel_size=(3, 3), stride=(1, 1), padding=(1, 1), bias=False)\n",
            "    (21): BatchNorm2d(256, eps=1e-05, momentum=0.1, affine=True, track_running_stats=True)\n",
            "    (22): ReLU(inplace=True)\n",
            "    (23): Conv2d(256, 256, kernel_size=(3, 3), stride=(1, 1), padding=(1, 1), bias=False)\n",
            "    (24): BatchNorm2d(256, eps=1e-05, momentum=0.1, affine=True, track_running_stats=True)\n",
            "    (25): ReLU(inplace=True)\n",
            "    (26): MaxPool2d(kernel_size=2, stride=2, padding=0, dilation=1, ceil_mode=False)\n",
            "    (27): Conv2d(256, 512, kernel_size=(3, 3), stride=(1, 1), padding=(1, 1), bias=False)\n",
            "    (28): BatchNorm2d(512, eps=1e-05, momentum=0.1, affine=True, track_running_stats=True)\n",
            "    (29): ReLU(inplace=True)\n",
            "    (30): Conv2d(512, 512, kernel_size=(3, 3), stride=(1, 1), padding=(1, 1), bias=False)\n",
            "    (31): BatchNorm2d(512, eps=1e-05, momentum=0.1, affine=True, track_running_stats=True)\n",
            "    (32): ReLU(inplace=True)\n",
            "    (33): Conv2d(512, 512, kernel_size=(3, 3), stride=(1, 1), padding=(1, 1), bias=False)\n",
            "    (34): BatchNorm2d(512, eps=1e-05, momentum=0.1, affine=True, track_running_stats=True)\n",
            "    (35): ReLU(inplace=True)\n",
            "    (36): Conv2d(512, 512, kernel_size=(3, 3), stride=(1, 1), padding=(1, 1), bias=False)\n",
            "    (37): BatchNorm2d(512, eps=1e-05, momentum=0.1, affine=True, track_running_stats=True)\n",
            "    (38): ReLU(inplace=True)\n",
            "    (39): MaxPool2d(kernel_size=2, stride=2, padding=0, dilation=1, ceil_mode=False)\n",
            "    (40): Conv2d(512, 512, kernel_size=(3, 3), stride=(1, 1), padding=(1, 1), bias=False)\n",
            "    (41): BatchNorm2d(512, eps=1e-05, momentum=0.1, affine=True, track_running_stats=True)\n",
            "    (42): ReLU(inplace=True)\n",
            "    (43): Conv2d(512, 512, kernel_size=(3, 3), stride=(1, 1), padding=(1, 1), bias=False)\n",
            "    (44): BatchNorm2d(512, eps=1e-05, momentum=0.1, affine=True, track_running_stats=True)\n",
            "    (45): ReLU(inplace=True)\n",
            "    (46): Conv2d(512, 512, kernel_size=(3, 3), stride=(1, 1), padding=(1, 1), bias=False)\n",
            "    (47): BatchNorm2d(512, eps=1e-05, momentum=0.1, affine=True, track_running_stats=True)\n",
            "    (48): ReLU(inplace=True)\n",
            "    (49): Conv2d(512, 512, kernel_size=(3, 3), stride=(1, 1), padding=(1, 1), bias=False)\n",
            "    (50): BatchNorm2d(512, eps=1e-05, momentum=0.1, affine=True, track_running_stats=True)\n",
            "    (51): ReLU(inplace=True)\n",
            "  )\n",
            "  (classifier): Linear(in_features=512, out_features=10, bias=True)\n",
            ")\n"
          ]
        }
      ],
      "source": [
        "CUDA = CUDA and torch.cuda.is_available()\n",
        "\n",
        "model = vgg()\n",
        "if CUDA:\n",
        "    model.cuda()\n",
        "    \n",
        "if WEIGHT_PATH:\n",
        "    if os.path.isfile(WEIGHT_PATH):\n",
        "        checkpoint = torch.load(WEIGHT_PATH)\n",
        "        best_prec1 = checkpoint['best_prec1']\n",
        "        model.load_state_dict(checkpoint['state_dict'])\n",
        "        print('LOADING CHECKPOINT {} @EPOCH={}, BEST_PREC1={}'.format(WEIGHT_PATH,checkpoint['epoch'],best_prec1))\n",
        "\n",
        "    else:\n",
        "        print(\"NO CHECKPOINT FOUND\")\n",
        "\n",
        "print(model)"
      ]
    },
    {
      "cell_type": "markdown",
      "metadata": {
        "id": "U0nUbcNtA_SA"
      },
      "source": [
        "### Test function (observe model accuracy)"
      ]
    },
    {
      "cell_type": "code",
      "execution_count": 15,
      "metadata": {
        "id": "Md44Lc-WBIaf"
      },
      "outputs": [],
      "source": [
        "def test(model):\n",
        "    kwargs = {'num_workers': 1, 'pin_memory': True} if CUDA else {}\n",
        "    test_loader = torch.utils.data.DataLoader(\n",
        "        datasets.CIFAR10('./data', train=False, download=True, transform=transforms.Compose([\n",
        "            transforms.ToTensor(),\n",
        "            transforms.Normalize((0.5, 0.5, 0.5), (0.5, 0.5, 0.5))])),\n",
        "        batch_size=TEST_BATCH_SIZE, shuffle=True, **kwargs)\n",
        "    model.eval()\n",
        "    correct = 0\n",
        "    with torch.no_grad():\n",
        "      for data, target in test_loader:\n",
        "          if CUDA:\n",
        "              data, target = data.cuda(), target.cuda()\n",
        "          data, target = Variable(data), Variable(target)\n",
        "          output = model(data)\n",
        "          pred = output.data.max(1, keepdim=True)[1]\n",
        "          correct += pred.eq(target.data.view_as(pred)).cpu().sum()\n",
        "\n",
        "    print('\\nTest set: Accuracy: {}/{} ({:.1f}%)\\n'.format(\n",
        "        correct, len(test_loader.dataset), 100. * correct / len(test_loader.dataset)))\n",
        "    return correct / float(len(test_loader.dataset))"
      ]
    },
    {
      "cell_type": "markdown",
      "metadata": {
        "id": "srauYOD-1vSp"
      },
      "source": [
        "### Pruning\n",
        "#### Calculate the absolute value of scale factor in all Batch Nromalizaiton and sort them\n",
        "#### Using PRUNE_RATIO to obtain the threshold"
      ]
    },
    {
      "cell_type": "code",
      "execution_count": 16,
      "metadata": {
        "id": "xgtUBaDw1uuR"
      },
      "outputs": [],
      "source": [
        "total = 0\n",
        "for m in model.modules():\n",
        "    if isinstance(m, nn.BatchNorm2d):\n",
        "        total += m.weight.data.shape[0]\n",
        "\n",
        "bn = torch.zeros(total)\n",
        "index = 0\n",
        "for m in model.modules():\n",
        "    if isinstance(m, nn.BatchNorm2d):\n",
        "        size = m.weight.data.shape[0]\n",
        "        bn[index:(index+size)] = m.weight.data.abs().clone()\n",
        "        index += size\n",
        "\n",
        "y, i = torch.sort(bn)\n",
        "\n",
        "threshold_index = int(total * PRUNE_PERCENT)\n",
        "threshold = y[threshold_index]\n"
      ]
    },
    {
      "cell_type": "markdown",
      "metadata": {
        "id": "1sy0JNTN-h3B"
      },
      "source": [
        "### Create CONFIG, which will be used when building the pruned network later"
      ]
    },
    {
      "cell_type": "code",
      "execution_count": null,
      "metadata": {
        "id": "PBklaqUZHnvp"
      },
      "outputs": [],
      "source": [
        "pruned = 0 \n",
        "cfg = []  #CONFIG used to build the pruning network\n",
        "cfg_mask = [] #Mask to help pruning"
      ]
    },
    {
      "cell_type": "code",
      "execution_count": 18,
      "metadata": {},
      "outputs": [
        {
          "name": "stdout",
          "output_type": "stream",
          "text": [
            "2.0.1+cu118\n",
            "True\n",
            "11.8\n"
          ]
        }
      ],
      "source": [
        "print(torch.__version__)\n",
        "print(torch.cuda.is_available())\n",
        "print(torch.version.cuda)"
      ]
    },
    {
      "cell_type": "markdown",
      "metadata": {
        "id": "66vDWd5BMmph"
      },
      "source": [
        "### Create CONFIG based on Batch Normalization Layer information\n",
        "#### 1. Copy the weight (i.e. scale factor) of Batch Normalization Layer\n",
        "#### 2. Create a mask. The index value greater than the threshold will be set to 1, and the value less than the threshold will be set to 0\n",
        "#### 3. The sum of the values ​​of the index greater than the threshold will be the output channel corresponding to the Layer after pruning\n",
        "#### 4. Finally, get the CONFIG to build the pruning model"
      ]
    },
    {
      "cell_type": "code",
      "execution_count": 19,
      "metadata": {
        "id": "10ilGgoZ1SR1"
      },
      "outputs": [
        {
          "name": "stdout",
          "output_type": "stream",
          "text": [
            "tensor(18., device='cuda:0')\n",
            "layer index: 3 \t total channel: 64 \t remaining channel: 18\n",
            "tensor(57., device='cuda:0')\n",
            "layer index: 6 \t total channel: 64 \t remaining channel: 57\n",
            "tensor(74., device='cuda:0')\n",
            "layer index: 10 \t total channel: 128 \t remaining channel: 74\n",
            "tensor(119., device='cuda:0')\n",
            "layer index: 13 \t total channel: 128 \t remaining channel: 119\n",
            "tensor(125., device='cuda:0')\n",
            "layer index: 17 \t total channel: 256 \t remaining channel: 125\n",
            "tensor(85., device='cuda:0')\n",
            "layer index: 20 \t total channel: 256 \t remaining channel: 85\n",
            "tensor(36., device='cuda:0')\n",
            "layer index: 23 \t total channel: 256 \t remaining channel: 36\n",
            "tensor(2., device='cuda:0')\n",
            "layer index: 26 \t total channel: 256 \t remaining channel: 2\n",
            "tensor(0., device='cuda:0')\n",
            "layer index: 30 \t total channel: 512 \t remaining channel: 4\n",
            "tensor(0., device='cuda:0')\n",
            "layer index: 33 \t total channel: 512 \t remaining channel: 4\n",
            "tensor(0., device='cuda:0')\n",
            "layer index: 36 \t total channel: 512 \t remaining channel: 4\n",
            "tensor(0., device='cuda:0')\n",
            "layer index: 39 \t total channel: 512 \t remaining channel: 4\n",
            "tensor(0., device='cuda:0')\n",
            "layer index: 43 \t total channel: 512 \t remaining channel: 4\n",
            "tensor(0., device='cuda:0')\n",
            "layer index: 46 \t total channel: 512 \t remaining channel: 4\n",
            "tensor(0., device='cuda:0')\n",
            "layer index: 49 \t total channel: 512 \t remaining channel: 4\n",
            "tensor(34., device='cuda:0')\n",
            "layer index: 52 \t total channel: 512 \t remaining channel: 34\n",
            "PRUNE RATIO=0.8949854373931885\n",
            "PREPROCESSING SUCCESSFUL!\n",
            "[18, 57, 'M', 74, 119, 'M', 125, 85, 36, 2, 'M', 4, 4, 4, 4, 'M', 4, 4, 4, 34]\n"
          ]
        }
      ],
      "source": [
        "for k, m in enumerate(model.modules()):\n",
        "    if isinstance(m, nn.BatchNorm2d):\n",
        "        weight_copy = m.weight.data.clone()\n",
        "        mask = weight_copy.abs().gt(threshold).float().cuda()\n",
        "        print(torch.sum(mask))\n",
        "        \n",
        "        if torch.sum(mask)==0:\n",
        "            preserve_idx=torch.topk(weight_copy, 4)[1].tolist()\n",
        "            mask[preserve_idx]=1\n",
        "            \n",
        "        fc_layers_idx = range(len(cfg))\n",
        "        for i in fc_layers_idx:\n",
        "            if cfg[i] == 0:\n",
        "                cfg[i] = 3\n",
        "       \n",
        "        pruned = pruned + mask.shape[0] - torch.sum(mask)\n",
        "        cfg.append(int(torch.sum(mask)))\n",
        "        cfg_mask.append(mask.clone())\n",
        "        print('layer index: {:d} \\t total channel: {:d} \\t remaining channel: {:d}'.\n",
        "            format(k, mask.shape[0], int(torch.sum(mask))))\n",
        "         \n",
        "        \n",
        "    elif isinstance(m, nn.MaxPool2d):\n",
        "        cfg.append('M')\n",
        "\n",
        "pruned_ratio = pruned/total\n",
        "\n",
        "print(f'PRUNE RATIO={pruned_ratio}')\n",
        "print('PREPROCESSING SUCCESSFUL!')\n",
        "\n",
        "print(cfg)\n",
        "#print(mask)\n"
      ]
    },
    {
      "cell_type": "markdown",
      "metadata": {
        "id": "_ha2BuBl1ifM"
      },
      "source": [
        "### Building a pruning model"
      ]
    },
    {
      "cell_type": "code",
      "execution_count": 20,
      "metadata": {
        "id": "SlWNdj2f1nWs"
      },
      "outputs": [
        {
          "data": {
            "text/plain": [
              "vgg(\n",
              "  (feature): Sequential(\n",
              "    (0): Conv2d(3, 18, kernel_size=(3, 3), stride=(1, 1), padding=(1, 1), bias=False)\n",
              "    (1): BatchNorm2d(18, eps=1e-05, momentum=0.1, affine=True, track_running_stats=True)\n",
              "    (2): ReLU(inplace=True)\n",
              "    (3): Conv2d(18, 57, kernel_size=(3, 3), stride=(1, 1), padding=(1, 1), bias=False)\n",
              "    (4): BatchNorm2d(57, eps=1e-05, momentum=0.1, affine=True, track_running_stats=True)\n",
              "    (5): ReLU(inplace=True)\n",
              "    (6): MaxPool2d(kernel_size=2, stride=2, padding=0, dilation=1, ceil_mode=False)\n",
              "    (7): Conv2d(57, 74, kernel_size=(3, 3), stride=(1, 1), padding=(1, 1), bias=False)\n",
              "    (8): BatchNorm2d(74, eps=1e-05, momentum=0.1, affine=True, track_running_stats=True)\n",
              "    (9): ReLU(inplace=True)\n",
              "    (10): Conv2d(74, 119, kernel_size=(3, 3), stride=(1, 1), padding=(1, 1), bias=False)\n",
              "    (11): BatchNorm2d(119, eps=1e-05, momentum=0.1, affine=True, track_running_stats=True)\n",
              "    (12): ReLU(inplace=True)\n",
              "    (13): MaxPool2d(kernel_size=2, stride=2, padding=0, dilation=1, ceil_mode=False)\n",
              "    (14): Conv2d(119, 125, kernel_size=(3, 3), stride=(1, 1), padding=(1, 1), bias=False)\n",
              "    (15): BatchNorm2d(125, eps=1e-05, momentum=0.1, affine=True, track_running_stats=True)\n",
              "    (16): ReLU(inplace=True)\n",
              "    (17): Conv2d(125, 85, kernel_size=(3, 3), stride=(1, 1), padding=(1, 1), bias=False)\n",
              "    (18): BatchNorm2d(85, eps=1e-05, momentum=0.1, affine=True, track_running_stats=True)\n",
              "    (19): ReLU(inplace=True)\n",
              "    (20): Conv2d(85, 36, kernel_size=(3, 3), stride=(1, 1), padding=(1, 1), bias=False)\n",
              "    (21): BatchNorm2d(36, eps=1e-05, momentum=0.1, affine=True, track_running_stats=True)\n",
              "    (22): ReLU(inplace=True)\n",
              "    (23): Conv2d(36, 2, kernel_size=(3, 3), stride=(1, 1), padding=(1, 1), bias=False)\n",
              "    (24): BatchNorm2d(2, eps=1e-05, momentum=0.1, affine=True, track_running_stats=True)\n",
              "    (25): ReLU(inplace=True)\n",
              "    (26): MaxPool2d(kernel_size=2, stride=2, padding=0, dilation=1, ceil_mode=False)\n",
              "    (27): Conv2d(2, 4, kernel_size=(3, 3), stride=(1, 1), padding=(1, 1), bias=False)\n",
              "    (28): BatchNorm2d(4, eps=1e-05, momentum=0.1, affine=True, track_running_stats=True)\n",
              "    (29): ReLU(inplace=True)\n",
              "    (30): Conv2d(4, 4, kernel_size=(3, 3), stride=(1, 1), padding=(1, 1), bias=False)\n",
              "    (31): BatchNorm2d(4, eps=1e-05, momentum=0.1, affine=True, track_running_stats=True)\n",
              "    (32): ReLU(inplace=True)\n",
              "    (33): Conv2d(4, 4, kernel_size=(3, 3), stride=(1, 1), padding=(1, 1), bias=False)\n",
              "    (34): BatchNorm2d(4, eps=1e-05, momentum=0.1, affine=True, track_running_stats=True)\n",
              "    (35): ReLU(inplace=True)\n",
              "    (36): Conv2d(4, 4, kernel_size=(3, 3), stride=(1, 1), padding=(1, 1), bias=False)\n",
              "    (37): BatchNorm2d(4, eps=1e-05, momentum=0.1, affine=True, track_running_stats=True)\n",
              "    (38): ReLU(inplace=True)\n",
              "    (39): MaxPool2d(kernel_size=2, stride=2, padding=0, dilation=1, ceil_mode=False)\n",
              "    (40): Conv2d(4, 4, kernel_size=(3, 3), stride=(1, 1), padding=(1, 1), bias=False)\n",
              "    (41): BatchNorm2d(4, eps=1e-05, momentum=0.1, affine=True, track_running_stats=True)\n",
              "    (42): ReLU(inplace=True)\n",
              "    (43): Conv2d(4, 4, kernel_size=(3, 3), stride=(1, 1), padding=(1, 1), bias=False)\n",
              "    (44): BatchNorm2d(4, eps=1e-05, momentum=0.1, affine=True, track_running_stats=True)\n",
              "    (45): ReLU(inplace=True)\n",
              "    (46): Conv2d(4, 4, kernel_size=(3, 3), stride=(1, 1), padding=(1, 1), bias=False)\n",
              "    (47): BatchNorm2d(4, eps=1e-05, momentum=0.1, affine=True, track_running_stats=True)\n",
              "    (48): ReLU(inplace=True)\n",
              "    (49): Conv2d(4, 34, kernel_size=(3, 3), stride=(1, 1), padding=(1, 1), bias=False)\n",
              "    (50): BatchNorm2d(34, eps=1e-05, momentum=0.1, affine=True, track_running_stats=True)\n",
              "    (51): ReLU(inplace=True)\n",
              "  )\n",
              "  (classifier): Linear(in_features=34, out_features=10, bias=True)\n",
              ")"
            ]
          },
          "execution_count": 20,
          "metadata": {},
          "output_type": "execute_result"
        }
      ],
      "source": [
        "newmodel = vgg(cfg=cfg)\n",
        "newmodel.cuda()"
      ]
    },
    {
      "cell_type": "markdown",
      "metadata": {
        "id": "ms9Usgkh1Vbe"
      },
      "source": [
        "### Copy the original model weights to the pruned model\n",
        "#### 1. Determine the input and output channels of this layer\n",
        "#### 2. Decide what weights to copy based on different layers\n",
        "#### Batch Normalization Layer\n",
        "1.   scale factor\n",
        "2.   bias\n",
        "3.   running mean\n",
        "4.   running variance\n",
        "\n",
        "#### Convolutional Layer\n",
        "1.   weight\n",
        "2.   bias\n",
        "\n",
        "#### Linear Layer\n",
        "1.   weight\n",
        "2.   bias\n",
        "\n"
      ]
    },
    {
      "cell_type": "code",
      "execution_count": null,
      "metadata": {
        "id": "hQcKuMDee46V"
      },
      "outputs": [],
      "source": [
        "layer_id_in_cfg = 0\n",
        "start_mask = torch.ones(3) #3 represents input channel(R,G,B)\n",
        "end_mask = cfg_mask[layer_id_in_cfg]\n",
        "count = 0\n",
        "for [m0, m1] in zip(model.modules(), newmodel.modules()):\n",
        "\n",
        "    if isinstance(m0, nn.BatchNorm2d):\n",
        "        # Dealing with pruned weights\n",
        "        m0.weight.data.mul_(end_mask)\n",
        "        m0.bias.data.mul_(end_mask)\n",
        "\n",
        "        #### Find the index of the non-zero element in the mask ####\n",
        "        idx = torch.nonzero(end_mask)\n",
        "\n",
        "        # Copy the weights of the original model to the weights of the pruned model\n",
        "\n",
        "        #### Copy weight and bias ####\n",
        "        m1.weight.data = m0.weight.data[idx].clone() \n",
        "        m1.bias.data = m0.bias.data[idx].clone()\n",
        "\n",
        "        #### Copy running mean and running variance ####\n",
        "        m1.running_mean = m0.running_mean[idx]\n",
        "        m1.running_var = m0.running_var[idx]\n",
        "\n",
        "        layer_id_in_cfg += 1\n",
        "        start_mask = end_mask.clone()\n",
        "        \n",
        "        # The last connection layer is not modified\n",
        "        if layer_id_in_cfg < len(cfg_mask):\n",
        "            end_mask = cfg_mask[layer_id_in_cfg]\n",
        "\n",
        "        #print(\"start_mask=\",start_mask.shape)\n",
        "        #print(\"end_mask=\",end_mask.shape)\n",
        "        \n",
        "    elif isinstance(m0, nn.Conv2d):\n",
        "        # Copy the convolutional layer weights of the original model to the convolutional layer weights of the corresponding pruned model\n",
        "        # idx0 = np.squeeze(np.argwhere(np.asarray(start_mask.cpu().numpy())))\n",
        "        # idx1 = np.squeeze(np.argwhere(np.asarray(end_mask.cpu().numpy())))\n",
        "        idx0 = np.flatnonzero(start_mask.cpu().numpy())\n",
        "        idx1 = np.flatnonzero(end_mask.cpu().numpy())\n",
        "\n",
        "        # print(\"idx0.shape=\",idx0.shape)\n",
        "        # print(\"idx1.shape=\",idx1.shape)\n",
        "\n",
        "        w = m0.weight.data[:, idx0, :, :].clone()\n",
        "        w = w[idx1, :, :, :].clone()\n",
        "        m1.weight.data = w.clone()\n",
        "        #m1.bias.data = m0.bias.data[idx1].clone()\n",
        "    elif isinstance(m0, nn.Linear):\n",
        "        # Refer to https://pytorch.org/docs/stable/generated/torch.nn.Linear.html to decide how to copy Linear Layer parameters.\n",
        "\n",
        "        idx0 = np.squeeze(np.argwhere(np.asarray(start_mask.cpu().numpy())))\n",
        "\n",
        "        #### Copy weight ####\n",
        "        m1.weight.data = m0.weight.data[:,idx0].clone()\n",
        "\n",
        "        #### Copy bias #### \n",
        "        m1.bias.data = m0.bias.data.clone()\n"
      ]
    },
    {
      "cell_type": "markdown",
      "metadata": {
        "id": "AFkMmFLo88mc"
      },
      "source": [
        "### Save the model and print the results"
      ]
    },
    {
      "cell_type": "code",
      "execution_count": 22,
      "metadata": {},
      "outputs": [
        {
          "name": "stdout",
          "output_type": "stream",
          "text": [
            "vgg(\n",
            "  (feature): Sequential(\n",
            "    (0): Conv2d(3, 18, kernel_size=(3, 3), stride=(1, 1), padding=(1, 1), bias=False)\n",
            "    (1): BatchNorm2d(18, eps=1e-05, momentum=0.1, affine=True, track_running_stats=True)\n",
            "    (2): ReLU(inplace=True)\n",
            "    (3): Conv2d(18, 57, kernel_size=(3, 3), stride=(1, 1), padding=(1, 1), bias=False)\n",
            "    (4): BatchNorm2d(57, eps=1e-05, momentum=0.1, affine=True, track_running_stats=True)\n",
            "    (5): ReLU(inplace=True)\n",
            "    (6): MaxPool2d(kernel_size=2, stride=2, padding=0, dilation=1, ceil_mode=False)\n",
            "    (7): Conv2d(57, 74, kernel_size=(3, 3), stride=(1, 1), padding=(1, 1), bias=False)\n",
            "    (8): BatchNorm2d(74, eps=1e-05, momentum=0.1, affine=True, track_running_stats=True)\n",
            "    (9): ReLU(inplace=True)\n",
            "    (10): Conv2d(74, 119, kernel_size=(3, 3), stride=(1, 1), padding=(1, 1), bias=False)\n",
            "    (11): BatchNorm2d(119, eps=1e-05, momentum=0.1, affine=True, track_running_stats=True)\n",
            "    (12): ReLU(inplace=True)\n",
            "    (13): MaxPool2d(kernel_size=2, stride=2, padding=0, dilation=1, ceil_mode=False)\n",
            "    (14): Conv2d(119, 125, kernel_size=(3, 3), stride=(1, 1), padding=(1, 1), bias=False)\n",
            "    (15): BatchNorm2d(125, eps=1e-05, momentum=0.1, affine=True, track_running_stats=True)\n",
            "    (16): ReLU(inplace=True)\n",
            "    (17): Conv2d(125, 85, kernel_size=(3, 3), stride=(1, 1), padding=(1, 1), bias=False)\n",
            "    (18): BatchNorm2d(85, eps=1e-05, momentum=0.1, affine=True, track_running_stats=True)\n",
            "    (19): ReLU(inplace=True)\n",
            "    (20): Conv2d(85, 36, kernel_size=(3, 3), stride=(1, 1), padding=(1, 1), bias=False)\n",
            "    (21): BatchNorm2d(36, eps=1e-05, momentum=0.1, affine=True, track_running_stats=True)\n",
            "    (22): ReLU(inplace=True)\n",
            "    (23): Conv2d(36, 2, kernel_size=(3, 3), stride=(1, 1), padding=(1, 1), bias=False)\n",
            "    (24): BatchNorm2d(2, eps=1e-05, momentum=0.1, affine=True, track_running_stats=True)\n",
            "    (25): ReLU(inplace=True)\n",
            "    (26): MaxPool2d(kernel_size=2, stride=2, padding=0, dilation=1, ceil_mode=False)\n",
            "    (27): Conv2d(2, 4, kernel_size=(3, 3), stride=(1, 1), padding=(1, 1), bias=False)\n",
            "    (28): BatchNorm2d(4, eps=1e-05, momentum=0.1, affine=True, track_running_stats=True)\n",
            "    (29): ReLU(inplace=True)\n",
            "    (30): Conv2d(4, 4, kernel_size=(3, 3), stride=(1, 1), padding=(1, 1), bias=False)\n",
            "    (31): BatchNorm2d(4, eps=1e-05, momentum=0.1, affine=True, track_running_stats=True)\n",
            "    (32): ReLU(inplace=True)\n",
            "    (33): Conv2d(4, 4, kernel_size=(3, 3), stride=(1, 1), padding=(1, 1), bias=False)\n",
            "    (34): BatchNorm2d(4, eps=1e-05, momentum=0.1, affine=True, track_running_stats=True)\n",
            "    (35): ReLU(inplace=True)\n",
            "    (36): Conv2d(4, 4, kernel_size=(3, 3), stride=(1, 1), padding=(1, 1), bias=False)\n",
            "    (37): BatchNorm2d(4, eps=1e-05, momentum=0.1, affine=True, track_running_stats=True)\n",
            "    (38): ReLU(inplace=True)\n",
            "    (39): MaxPool2d(kernel_size=2, stride=2, padding=0, dilation=1, ceil_mode=False)\n",
            "    (40): Conv2d(4, 4, kernel_size=(3, 3), stride=(1, 1), padding=(1, 1), bias=False)\n",
            "    (41): BatchNorm2d(4, eps=1e-05, momentum=0.1, affine=True, track_running_stats=True)\n",
            "    (42): ReLU(inplace=True)\n",
            "    (43): Conv2d(4, 4, kernel_size=(3, 3), stride=(1, 1), padding=(1, 1), bias=False)\n",
            "    (44): BatchNorm2d(4, eps=1e-05, momentum=0.1, affine=True, track_running_stats=True)\n",
            "    (45): ReLU(inplace=True)\n",
            "    (46): Conv2d(4, 4, kernel_size=(3, 3), stride=(1, 1), padding=(1, 1), bias=False)\n",
            "    (47): BatchNorm2d(4, eps=1e-05, momentum=0.1, affine=True, track_running_stats=True)\n",
            "    (48): ReLU(inplace=True)\n",
            "    (49): Conv2d(4, 34, kernel_size=(3, 3), stride=(1, 1), padding=(1, 1), bias=False)\n",
            "    (50): BatchNorm2d(34, eps=1e-05, momentum=0.1, affine=True, track_running_stats=True)\n",
            "    (51): ReLU(inplace=True)\n",
            "  )\n",
            "  (classifier): Linear(in_features=34, out_features=10, bias=True)\n",
            ")\n",
            "Files already downloaded and verified\n",
            "\n",
            "Test set: Accuracy: 1000/10000 (10.0%)\n",
            "\n"
          ]
        },
        {
          "data": {
            "text/plain": [
              "tensor(0.1000)"
            ]
          },
          "execution_count": 22,
          "metadata": {},
          "output_type": "execute_result"
        }
      ],
      "source": [
        "torch.save({'cfg': cfg, 'state_dict': newmodel.state_dict()}, PRUNE_PATH)\n",
        "\n",
        "print(newmodel)\n",
        "model = newmodel\n",
        "test(newmodel)"
      ]
    }
  ],
  "metadata": {
    "accelerator": "GPU",
    "colab": {
      "provenance": []
    },
    "gpuClass": "standard",
    "kernelspec": {
      "display_name": "Python 3",
      "name": "python3"
    },
    "language_info": {
      "codemirror_mode": {
        "name": "ipython",
        "version": 3
      },
      "file_extension": ".py",
      "mimetype": "text/x-python",
      "name": "python",
      "nbconvert_exporter": "python",
      "pygments_lexer": "ipython3",
      "version": "3.11.4"
    }
  },
  "nbformat": 4,
  "nbformat_minor": 0
}
